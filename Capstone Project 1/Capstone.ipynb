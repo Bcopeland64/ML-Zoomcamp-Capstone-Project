{
 "cells": [
  {
   "cell_type": "code",
   "execution_count": 1,
   "metadata": {},
   "outputs": [],
   "source": [
    "import numpy as np\n",
    "import pandas as pd\n",
    "import matplotlib.pyplot as plt\n",
    "import seaborn as sns"
   ]
  },
  {
   "cell_type": "code",
   "execution_count": 2,
   "metadata": {},
   "outputs": [],
   "source": [
    "data = pd.read_csv('/home/brandon/ML Zoomcamp/Capstone Project 1/salaries.csv')"
   ]
  },
  {
   "cell_type": "code",
   "execution_count": 3,
   "metadata": {},
   "outputs": [
    {
     "data": {
      "text/html": [
       "<div>\n",
       "<style scoped>\n",
       "    .dataframe tbody tr th:only-of-type {\n",
       "        vertical-align: middle;\n",
       "    }\n",
       "\n",
       "    .dataframe tbody tr th {\n",
       "        vertical-align: top;\n",
       "    }\n",
       "\n",
       "    .dataframe thead th {\n",
       "        text-align: right;\n",
       "    }\n",
       "</style>\n",
       "<table border=\"1\" class=\"dataframe\">\n",
       "  <thead>\n",
       "    <tr style=\"text-align: right;\">\n",
       "      <th></th>\n",
       "      <th>work_year</th>\n",
       "      <th>experience_level</th>\n",
       "      <th>employment_type</th>\n",
       "      <th>job_title</th>\n",
       "      <th>salary</th>\n",
       "      <th>salary_currency</th>\n",
       "      <th>salary_in_usd</th>\n",
       "      <th>employee_residence</th>\n",
       "      <th>remote_ratio</th>\n",
       "      <th>company_location</th>\n",
       "      <th>company_size</th>\n",
       "    </tr>\n",
       "  </thead>\n",
       "  <tbody>\n",
       "    <tr>\n",
       "      <th>0</th>\n",
       "      <td>2023</td>\n",
       "      <td>EN</td>\n",
       "      <td>FT</td>\n",
       "      <td>AI Engineer</td>\n",
       "      <td>20000</td>\n",
       "      <td>EUR</td>\n",
       "      <td>21593</td>\n",
       "      <td>PT</td>\n",
       "      <td>50</td>\n",
       "      <td>PT</td>\n",
       "      <td>L</td>\n",
       "    </tr>\n",
       "    <tr>\n",
       "      <th>1</th>\n",
       "      <td>2023</td>\n",
       "      <td>SE</td>\n",
       "      <td>FT</td>\n",
       "      <td>Data Scientist</td>\n",
       "      <td>201650</td>\n",
       "      <td>USD</td>\n",
       "      <td>201650</td>\n",
       "      <td>US</td>\n",
       "      <td>0</td>\n",
       "      <td>US</td>\n",
       "      <td>M</td>\n",
       "    </tr>\n",
       "    <tr>\n",
       "      <th>2</th>\n",
       "      <td>2023</td>\n",
       "      <td>SE</td>\n",
       "      <td>FT</td>\n",
       "      <td>Data Scientist</td>\n",
       "      <td>124600</td>\n",
       "      <td>USD</td>\n",
       "      <td>124600</td>\n",
       "      <td>US</td>\n",
       "      <td>0</td>\n",
       "      <td>US</td>\n",
       "      <td>M</td>\n",
       "    </tr>\n",
       "    <tr>\n",
       "      <th>3</th>\n",
       "      <td>2023</td>\n",
       "      <td>SE</td>\n",
       "      <td>FT</td>\n",
       "      <td>Business Intelligence Analyst</td>\n",
       "      <td>198200</td>\n",
       "      <td>USD</td>\n",
       "      <td>198200</td>\n",
       "      <td>US</td>\n",
       "      <td>0</td>\n",
       "      <td>US</td>\n",
       "      <td>M</td>\n",
       "    </tr>\n",
       "    <tr>\n",
       "      <th>4</th>\n",
       "      <td>2023</td>\n",
       "      <td>SE</td>\n",
       "      <td>FT</td>\n",
       "      <td>Business Intelligence Analyst</td>\n",
       "      <td>110200</td>\n",
       "      <td>USD</td>\n",
       "      <td>110200</td>\n",
       "      <td>US</td>\n",
       "      <td>0</td>\n",
       "      <td>US</td>\n",
       "      <td>M</td>\n",
       "    </tr>\n",
       "  </tbody>\n",
       "</table>\n",
       "</div>"
      ],
      "text/plain": [
       "   work_year experience_level employment_type                      job_title  \\\n",
       "0       2023               EN              FT                    AI Engineer   \n",
       "1       2023               SE              FT                 Data Scientist   \n",
       "2       2023               SE              FT                 Data Scientist   \n",
       "3       2023               SE              FT  Business Intelligence Analyst   \n",
       "4       2023               SE              FT  Business Intelligence Analyst   \n",
       "\n",
       "   salary salary_currency  salary_in_usd employee_residence  remote_ratio  \\\n",
       "0   20000             EUR          21593                 PT            50   \n",
       "1  201650             USD         201650                 US             0   \n",
       "2  124600             USD         124600                 US             0   \n",
       "3  198200             USD         198200                 US             0   \n",
       "4  110200             USD         110200                 US             0   \n",
       "\n",
       "  company_location company_size  \n",
       "0               PT            L  \n",
       "1               US            M  \n",
       "2               US            M  \n",
       "3               US            M  \n",
       "4               US            M  "
      ]
     },
     "execution_count": 3,
     "metadata": {},
     "output_type": "execute_result"
    }
   ],
   "source": [
    "data.head()"
   ]
  },
  {
   "cell_type": "code",
   "execution_count": 4,
   "metadata": {},
   "outputs": [
    {
     "data": {
      "text/plain": [
       "['work_year',\n",
       " 'experience_level',\n",
       " 'employment_type',\n",
       " 'job_title',\n",
       " 'salary',\n",
       " 'salary_currency',\n",
       " 'salary_in_usd',\n",
       " 'employee_residence',\n",
       " 'remote_ratio',\n",
       " 'company_location',\n",
       " 'company_size']"
      ]
     },
     "execution_count": 4,
     "metadata": {},
     "output_type": "execute_result"
    }
   ],
   "source": [
    "list(data.columns)"
   ]
  },
  {
   "cell_type": "code",
   "execution_count": 5,
   "metadata": {},
   "outputs": [
    {
     "name": "stdout",
     "output_type": "stream",
     "text": [
      "<class 'pandas.core.frame.DataFrame'>\n",
      "RangeIndex: 8467 entries, 0 to 8466\n",
      "Data columns (total 11 columns):\n",
      " #   Column              Non-Null Count  Dtype \n",
      "---  ------              --------------  ----- \n",
      " 0   work_year           8467 non-null   int64 \n",
      " 1   experience_level    8467 non-null   object\n",
      " 2   employment_type     8467 non-null   object\n",
      " 3   job_title           8467 non-null   object\n",
      " 4   salary              8467 non-null   int64 \n",
      " 5   salary_currency     8467 non-null   object\n",
      " 6   salary_in_usd       8467 non-null   int64 \n",
      " 7   employee_residence  8467 non-null   object\n",
      " 8   remote_ratio        8467 non-null   int64 \n",
      " 9   company_location    8467 non-null   object\n",
      " 10  company_size        8467 non-null   object\n",
      "dtypes: int64(4), object(7)\n",
      "memory usage: 727.8+ KB\n"
     ]
    }
   ],
   "source": [
    "data.info()"
   ]
  },
  {
   "cell_type": "code",
   "execution_count": 6,
   "metadata": {},
   "outputs": [
    {
     "data": {
      "text/html": [
       "<div>\n",
       "<style scoped>\n",
       "    .dataframe tbody tr th:only-of-type {\n",
       "        vertical-align: middle;\n",
       "    }\n",
       "\n",
       "    .dataframe tbody tr th {\n",
       "        vertical-align: top;\n",
       "    }\n",
       "\n",
       "    .dataframe thead th {\n",
       "        text-align: right;\n",
       "    }\n",
       "</style>\n",
       "<table border=\"1\" class=\"dataframe\">\n",
       "  <thead>\n",
       "    <tr style=\"text-align: right;\">\n",
       "      <th></th>\n",
       "      <th>work_year</th>\n",
       "      <th>salary</th>\n",
       "      <th>salary_in_usd</th>\n",
       "      <th>remote_ratio</th>\n",
       "    </tr>\n",
       "  </thead>\n",
       "  <tbody>\n",
       "    <tr>\n",
       "      <th>count</th>\n",
       "      <td>8467.000000</td>\n",
       "      <td>8.467000e+03</td>\n",
       "      <td>8467.000000</td>\n",
       "      <td>8467.000000</td>\n",
       "    </tr>\n",
       "    <tr>\n",
       "      <th>mean</th>\n",
       "      <td>2022.727058</td>\n",
       "      <td>1.756464e+05</td>\n",
       "      <td>149379.921814</td>\n",
       "      <td>39.222865</td>\n",
       "    </tr>\n",
       "    <tr>\n",
       "      <th>std</th>\n",
       "      <td>0.550565</td>\n",
       "      <td>4.648831e+05</td>\n",
       "      <td>64138.469505</td>\n",
       "      <td>48.163885</td>\n",
       "    </tr>\n",
       "    <tr>\n",
       "      <th>min</th>\n",
       "      <td>2020.000000</td>\n",
       "      <td>1.400000e+04</td>\n",
       "      <td>15000.000000</td>\n",
       "      <td>0.000000</td>\n",
       "    </tr>\n",
       "    <tr>\n",
       "      <th>25%</th>\n",
       "      <td>2023.000000</td>\n",
       "      <td>1.057000e+05</td>\n",
       "      <td>105000.000000</td>\n",
       "      <td>0.000000</td>\n",
       "    </tr>\n",
       "    <tr>\n",
       "      <th>50%</th>\n",
       "      <td>2023.000000</td>\n",
       "      <td>1.445000e+05</td>\n",
       "      <td>142200.000000</td>\n",
       "      <td>0.000000</td>\n",
       "    </tr>\n",
       "    <tr>\n",
       "      <th>75%</th>\n",
       "      <td>2023.000000</td>\n",
       "      <td>1.900000e+05</td>\n",
       "      <td>185900.000000</td>\n",
       "      <td>100.000000</td>\n",
       "    </tr>\n",
       "    <tr>\n",
       "      <th>max</th>\n",
       "      <td>2023.000000</td>\n",
       "      <td>3.040000e+07</td>\n",
       "      <td>450000.000000</td>\n",
       "      <td>100.000000</td>\n",
       "    </tr>\n",
       "  </tbody>\n",
       "</table>\n",
       "</div>"
      ],
      "text/plain": [
       "         work_year        salary  salary_in_usd  remote_ratio\n",
       "count  8467.000000  8.467000e+03    8467.000000   8467.000000\n",
       "mean   2022.727058  1.756464e+05  149379.921814     39.222865\n",
       "std       0.550565  4.648831e+05   64138.469505     48.163885\n",
       "min    2020.000000  1.400000e+04   15000.000000      0.000000\n",
       "25%    2023.000000  1.057000e+05  105000.000000      0.000000\n",
       "50%    2023.000000  1.445000e+05  142200.000000      0.000000\n",
       "75%    2023.000000  1.900000e+05  185900.000000    100.000000\n",
       "max    2023.000000  3.040000e+07  450000.000000    100.000000"
      ]
     },
     "execution_count": 6,
     "metadata": {},
     "output_type": "execute_result"
    }
   ],
   "source": [
    "data.describe()"
   ]
  },
  {
   "cell_type": "code",
   "execution_count": 7,
   "metadata": {},
   "outputs": [
    {
     "data": {
      "text/plain": [
       "(8467, 11)"
      ]
     },
     "execution_count": 7,
     "metadata": {},
     "output_type": "execute_result"
    }
   ],
   "source": [
    "data.shape"
   ]
  },
  {
   "cell_type": "code",
   "execution_count": 8,
   "metadata": {},
   "outputs": [],
   "source": [
    "#Clean the headings\n",
    "data.columns = data.columns.str.lower().str.replace(' ', '_') "
   ]
  },
  {
   "cell_type": "code",
   "execution_count": 9,
   "metadata": {},
   "outputs": [
    {
     "data": {
      "text/html": [
       "<div>\n",
       "<style scoped>\n",
       "    .dataframe tbody tr th:only-of-type {\n",
       "        vertical-align: middle;\n",
       "    }\n",
       "\n",
       "    .dataframe tbody tr th {\n",
       "        vertical-align: top;\n",
       "    }\n",
       "\n",
       "    .dataframe thead th {\n",
       "        text-align: right;\n",
       "    }\n",
       "</style>\n",
       "<table border=\"1\" class=\"dataframe\">\n",
       "  <thead>\n",
       "    <tr style=\"text-align: right;\">\n",
       "      <th></th>\n",
       "      <th>work_year</th>\n",
       "      <th>experience_level</th>\n",
       "      <th>employment_type</th>\n",
       "      <th>job_title</th>\n",
       "      <th>salary</th>\n",
       "      <th>salary_currency</th>\n",
       "      <th>salary_in_usd</th>\n",
       "      <th>employee_residence</th>\n",
       "      <th>remote_ratio</th>\n",
       "      <th>company_location</th>\n",
       "      <th>company_size</th>\n",
       "    </tr>\n",
       "  </thead>\n",
       "  <tbody>\n",
       "    <tr>\n",
       "      <th>0</th>\n",
       "      <td>2023</td>\n",
       "      <td>EN</td>\n",
       "      <td>FT</td>\n",
       "      <td>AI Engineer</td>\n",
       "      <td>20000</td>\n",
       "      <td>EUR</td>\n",
       "      <td>21593</td>\n",
       "      <td>PT</td>\n",
       "      <td>50</td>\n",
       "      <td>PT</td>\n",
       "      <td>L</td>\n",
       "    </tr>\n",
       "    <tr>\n",
       "      <th>1</th>\n",
       "      <td>2023</td>\n",
       "      <td>SE</td>\n",
       "      <td>FT</td>\n",
       "      <td>Data Scientist</td>\n",
       "      <td>201650</td>\n",
       "      <td>USD</td>\n",
       "      <td>201650</td>\n",
       "      <td>US</td>\n",
       "      <td>0</td>\n",
       "      <td>US</td>\n",
       "      <td>M</td>\n",
       "    </tr>\n",
       "    <tr>\n",
       "      <th>2</th>\n",
       "      <td>2023</td>\n",
       "      <td>SE</td>\n",
       "      <td>FT</td>\n",
       "      <td>Data Scientist</td>\n",
       "      <td>124600</td>\n",
       "      <td>USD</td>\n",
       "      <td>124600</td>\n",
       "      <td>US</td>\n",
       "      <td>0</td>\n",
       "      <td>US</td>\n",
       "      <td>M</td>\n",
       "    </tr>\n",
       "    <tr>\n",
       "      <th>3</th>\n",
       "      <td>2023</td>\n",
       "      <td>SE</td>\n",
       "      <td>FT</td>\n",
       "      <td>Business Intelligence Analyst</td>\n",
       "      <td>198200</td>\n",
       "      <td>USD</td>\n",
       "      <td>198200</td>\n",
       "      <td>US</td>\n",
       "      <td>0</td>\n",
       "      <td>US</td>\n",
       "      <td>M</td>\n",
       "    </tr>\n",
       "    <tr>\n",
       "      <th>4</th>\n",
       "      <td>2023</td>\n",
       "      <td>SE</td>\n",
       "      <td>FT</td>\n",
       "      <td>Business Intelligence Analyst</td>\n",
       "      <td>110200</td>\n",
       "      <td>USD</td>\n",
       "      <td>110200</td>\n",
       "      <td>US</td>\n",
       "      <td>0</td>\n",
       "      <td>US</td>\n",
       "      <td>M</td>\n",
       "    </tr>\n",
       "  </tbody>\n",
       "</table>\n",
       "</div>"
      ],
      "text/plain": [
       "   work_year experience_level employment_type                      job_title  \\\n",
       "0       2023               EN              FT                    AI Engineer   \n",
       "1       2023               SE              FT                 Data Scientist   \n",
       "2       2023               SE              FT                 Data Scientist   \n",
       "3       2023               SE              FT  Business Intelligence Analyst   \n",
       "4       2023               SE              FT  Business Intelligence Analyst   \n",
       "\n",
       "   salary salary_currency  salary_in_usd employee_residence  remote_ratio  \\\n",
       "0   20000             EUR          21593                 PT            50   \n",
       "1  201650             USD         201650                 US             0   \n",
       "2  124600             USD         124600                 US             0   \n",
       "3  198200             USD         198200                 US             0   \n",
       "4  110200             USD         110200                 US             0   \n",
       "\n",
       "  company_location company_size  \n",
       "0               PT            L  \n",
       "1               US            M  \n",
       "2               US            M  \n",
       "3               US            M  \n",
       "4               US            M  "
      ]
     },
     "execution_count": 9,
     "metadata": {},
     "output_type": "execute_result"
    }
   ],
   "source": [
    "data.head()"
   ]
  },
  {
   "cell_type": "code",
   "execution_count": 10,
   "metadata": {},
   "outputs": [
    {
     "data": {
      "text/plain": [
       "<AxesSubplot: >"
      ]
     },
     "execution_count": 10,
     "metadata": {},
     "output_type": "execute_result"
    },
    {
     "data": {
      "image/png": "[encoded data removed]",
      "text/plain": [
       "<Figure size 640x480 with 1 Axes>"
      ]
     },
     "metadata": {},
     "output_type": "display_data"
    }
   ],
   "source": [
    "#Create a histogrom of salary_in_usd\n",
    "\n",
    "data.salary_in_usd.hist()"
   ]
  },
  {
   "cell_type": "code",
   "execution_count": 11,
   "metadata": {},
   "outputs": [
    {
     "data": {
      "text/plain": [
       "<AxesSubplot: >"
      ]
     },
     "execution_count": 11,
     "metadata": {},
     "output_type": "execute_result"
    },
    {
     "data": {
      "image/png": "[encoded data removed]",
      "text/plain": [
       "<Figure size 640x480 with 1 Axes>"
      ]
     },
     "metadata": {},
     "output_type": "display_data"
    }
   ],
   "source": [
    "#Create a boxplot of salary, remote_ratio, and salary_in_usd for the first 100 rows)\n",
    "\n",
    "\n",
    "data[['salary', 'remote_ratio', 'salary_in_usd']][:100].boxplot()"
   ]
  },
  {
   "cell_type": "code",
   "execution_count": 12,
   "metadata": {},
   "outputs": [
    {
     "data": {
      "text/plain": [
       "<AxesSubplot: xlabel='job_title'>"
      ]
     },
     "execution_count": 12,
     "metadata": {},
     "output_type": "execute_result"
    },
    {
     "data": {
      "image/png": "[encoded data removed]",
      "text/plain": [
       "<Figure size 640x480 with 1 Axes>"
      ]
     },
     "metadata": {},
     "output_type": "display_data"
    }
   ],
   "source": [
    "#Create Barchart of average salary by job title by unique job title for the first 100 rows\n",
    "\n",
    "data[['job_title', 'salary_in_usd']][:250].groupby('job_title').mean().plot(kind='bar')"
   ]
  },
  {
   "cell_type": "code",
   "execution_count": 13,
   "metadata": {},
   "outputs": [
    {
     "name": "stderr",
     "output_type": "stream",
     "text": [
      "/tmp/ipykernel_124780/3706195146.py:3: FutureWarning: The default value of numeric_only in DataFrame.corr is deprecated. In a future version, it will default to False. Select only valid columns or specify the value of numeric_only to silence this warning.\n",
      "  sns.heatmap(data.corr(), annot=True)\n"
     ]
    },
    {
     "data": {
      "text/plain": [
       "<AxesSubplot: >"
      ]
     },
     "execution_count": 13,
     "metadata": {},
     "output_type": "execute_result"
    },
    {
     "data": {
      "image/png": "[encoded data removed]",
      "text/plain": [
       "<Figure size 640x480 with 2 Axes>"
      ]
     },
     "metadata": {},
     "output_type": "display_data"
    }
   ],
   "source": [
    "#Create heatmap of correlation matrix\n",
    "\n",
    "sns.heatmap(data.corr(), annot=True)"
   ]
  },
  {
   "cell_type": "code",
   "execution_count": 14,
   "metadata": {},
   "outputs": [
    {
     "name": "stderr",
     "output_type": "stream",
     "text": [
      "/tmp/ipykernel_124780/3410995297.py:3: FutureWarning: The default value of numeric_only in DataFrame.corr is deprecated. In a future version, it will default to False. Select only valid columns or specify the value of numeric_only to silence this warning.\n",
      "  data.corr()['salary_in_usd'].sort_values(ascending=False)\n"
     ]
    },
    {
     "data": {
      "text/plain": [
       "salary_in_usd    1.000000\n",
       "work_year        0.189681\n",
       "salary           0.045326\n",
       "remote_ratio    -0.092025\n",
       "Name: salary_in_usd, dtype: float64"
      ]
     },
     "execution_count": 14,
     "metadata": {},
     "output_type": "execute_result"
    }
   ],
   "source": [
    "#Most important features for salary_in_usd\n",
    "\n",
    "data.corr()['salary_in_usd'].sort_values(ascending=False)"
   ]
  },
  {
   "cell_type": "code",
   "execution_count": 15,
   "metadata": {},
   "outputs": [],
   "source": [
    "from sklearn.model_selection import train_test_split"
   ]
  },
  {
   "cell_type": "code",
   "execution_count": 16,
   "metadata": {},
   "outputs": [],
   "source": [
    "df_full_train, df_test = train_test_split(data, test_size=0.2, random_state=1)"
   ]
  },
  {
   "cell_type": "code",
   "execution_count": 17,
   "metadata": {},
   "outputs": [
    {
     "data": {
      "text/plain": [
       "(6773, 1694)"
      ]
     },
     "execution_count": 17,
     "metadata": {},
     "output_type": "execute_result"
    }
   ],
   "source": [
    "len(df_full_train), len(df_test)"
   ]
  },
  {
   "cell_type": "code",
   "execution_count": 18,
   "metadata": {},
   "outputs": [],
   "source": [
    "df_train, df_val = train_test_split(df_full_train, test_size=0.25, random_state=1)"
   ]
  },
  {
   "cell_type": "code",
   "execution_count": 19,
   "metadata": {},
   "outputs": [
    {
     "data": {
      "text/plain": [
       "(5079, 1694, 1694)"
      ]
     },
     "execution_count": 19,
     "metadata": {},
     "output_type": "execute_result"
    }
   ],
   "source": [
    "len(df_train), len(df_val), len(df_test)"
   ]
  },
  {
   "cell_type": "code",
   "execution_count": 20,
   "metadata": {},
   "outputs": [],
   "source": [
    "df_train = df_train.reset_index(drop=True)\n",
    "df_val = df_val.reset_index(drop=True)\n",
    "df_test = df_test.reset_index(drop=True)"
   ]
  },
  {
   "cell_type": "code",
   "execution_count": 21,
   "metadata": {},
   "outputs": [],
   "source": [
    "y_train = df_train.salary_in_usd.values\n",
    "y_val = df_val.salary_in_usd.values\n",
    "y_test = df_test.salary_in_usd.values"
   ]
  },
  {
   "cell_type": "code",
   "execution_count": 22,
   "metadata": {},
   "outputs": [],
   "source": [
    "del df_train['salary_in_usd']\n",
    "del df_val['salary_in_usd']\n",
    "del df_test['salary_in_usd']"
   ]
  },
  {
   "cell_type": "code",
   "execution_count": 23,
   "metadata": {},
   "outputs": [],
   "source": [
    "df_full_train = df_full_train.reset_index(drop=True)"
   ]
  },
  {
   "cell_type": "code",
   "execution_count": 24,
   "metadata": {},
   "outputs": [
    {
     "data": {
      "text/html": [
       "<div>\n",
       "<style scoped>\n",
       "    .dataframe tbody tr th:only-of-type {\n",
       "        vertical-align: middle;\n",
       "    }\n",
       "\n",
       "    .dataframe tbody tr th {\n",
       "        vertical-align: top;\n",
       "    }\n",
       "\n",
       "    .dataframe thead th {\n",
       "        text-align: right;\n",
       "    }\n",
       "</style>\n",
       "<table border=\"1\" class=\"dataframe\">\n",
       "  <thead>\n",
       "    <tr style=\"text-align: right;\">\n",
       "      <th></th>\n",
       "      <th>work_year</th>\n",
       "      <th>experience_level</th>\n",
       "      <th>employment_type</th>\n",
       "      <th>job_title</th>\n",
       "      <th>salary</th>\n",
       "      <th>salary_currency</th>\n",
       "      <th>salary_in_usd</th>\n",
       "      <th>employee_residence</th>\n",
       "      <th>remote_ratio</th>\n",
       "      <th>company_location</th>\n",
       "      <th>company_size</th>\n",
       "    </tr>\n",
       "  </thead>\n",
       "  <tbody>\n",
       "    <tr>\n",
       "      <th>0</th>\n",
       "      <td>2022</td>\n",
       "      <td>EX</td>\n",
       "      <td>FT</td>\n",
       "      <td>Lead Data Engineer</td>\n",
       "      <td>150000</td>\n",
       "      <td>CAD</td>\n",
       "      <td>115222</td>\n",
       "      <td>CA</td>\n",
       "      <td>100</td>\n",
       "      <td>CA</td>\n",
       "      <td>S</td>\n",
       "    </tr>\n",
       "    <tr>\n",
       "      <th>1</th>\n",
       "      <td>2023</td>\n",
       "      <td>MI</td>\n",
       "      <td>FT</td>\n",
       "      <td>Research Scientist</td>\n",
       "      <td>130000</td>\n",
       "      <td>USD</td>\n",
       "      <td>130000</td>\n",
       "      <td>US</td>\n",
       "      <td>0</td>\n",
       "      <td>US</td>\n",
       "      <td>M</td>\n",
       "    </tr>\n",
       "    <tr>\n",
       "      <th>2</th>\n",
       "      <td>2023</td>\n",
       "      <td>SE</td>\n",
       "      <td>FT</td>\n",
       "      <td>Data Engineer</td>\n",
       "      <td>116500</td>\n",
       "      <td>USD</td>\n",
       "      <td>116500</td>\n",
       "      <td>US</td>\n",
       "      <td>100</td>\n",
       "      <td>US</td>\n",
       "      <td>M</td>\n",
       "    </tr>\n",
       "    <tr>\n",
       "      <th>3</th>\n",
       "      <td>2023</td>\n",
       "      <td>SE</td>\n",
       "      <td>FT</td>\n",
       "      <td>Machine Learning Engineer</td>\n",
       "      <td>138000</td>\n",
       "      <td>USD</td>\n",
       "      <td>138000</td>\n",
       "      <td>US</td>\n",
       "      <td>0</td>\n",
       "      <td>US</td>\n",
       "      <td>M</td>\n",
       "    </tr>\n",
       "    <tr>\n",
       "      <th>4</th>\n",
       "      <td>2023</td>\n",
       "      <td>MI</td>\n",
       "      <td>FT</td>\n",
       "      <td>AI Scientist</td>\n",
       "      <td>120000</td>\n",
       "      <td>USD</td>\n",
       "      <td>120000</td>\n",
       "      <td>DE</td>\n",
       "      <td>100</td>\n",
       "      <td>DE</td>\n",
       "      <td>M</td>\n",
       "    </tr>\n",
       "    <tr>\n",
       "      <th>...</th>\n",
       "      <td>...</td>\n",
       "      <td>...</td>\n",
       "      <td>...</td>\n",
       "      <td>...</td>\n",
       "      <td>...</td>\n",
       "      <td>...</td>\n",
       "      <td>...</td>\n",
       "      <td>...</td>\n",
       "      <td>...</td>\n",
       "      <td>...</td>\n",
       "      <td>...</td>\n",
       "    </tr>\n",
       "    <tr>\n",
       "      <th>6768</th>\n",
       "      <td>2023</td>\n",
       "      <td>SE</td>\n",
       "      <td>FT</td>\n",
       "      <td>Data Engineer</td>\n",
       "      <td>136000</td>\n",
       "      <td>USD</td>\n",
       "      <td>136000</td>\n",
       "      <td>US</td>\n",
       "      <td>100</td>\n",
       "      <td>US</td>\n",
       "      <td>M</td>\n",
       "    </tr>\n",
       "    <tr>\n",
       "      <th>6769</th>\n",
       "      <td>2022</td>\n",
       "      <td>SE</td>\n",
       "      <td>FT</td>\n",
       "      <td>Data Engineer</td>\n",
       "      <td>63000</td>\n",
       "      <td>USD</td>\n",
       "      <td>63000</td>\n",
       "      <td>US</td>\n",
       "      <td>0</td>\n",
       "      <td>US</td>\n",
       "      <td>M</td>\n",
       "    </tr>\n",
       "    <tr>\n",
       "      <th>6770</th>\n",
       "      <td>2023</td>\n",
       "      <td>SE</td>\n",
       "      <td>FT</td>\n",
       "      <td>Data Science Manager</td>\n",
       "      <td>234900</td>\n",
       "      <td>USD</td>\n",
       "      <td>234900</td>\n",
       "      <td>US</td>\n",
       "      <td>0</td>\n",
       "      <td>US</td>\n",
       "      <td>M</td>\n",
       "    </tr>\n",
       "    <tr>\n",
       "      <th>6771</th>\n",
       "      <td>2023</td>\n",
       "      <td>SE</td>\n",
       "      <td>FT</td>\n",
       "      <td>Machine Learning Engineer</td>\n",
       "      <td>125000</td>\n",
       "      <td>USD</td>\n",
       "      <td>125000</td>\n",
       "      <td>US</td>\n",
       "      <td>0</td>\n",
       "      <td>US</td>\n",
       "      <td>M</td>\n",
       "    </tr>\n",
       "    <tr>\n",
       "      <th>6772</th>\n",
       "      <td>2023</td>\n",
       "      <td>MI</td>\n",
       "      <td>FT</td>\n",
       "      <td>Data Engineer</td>\n",
       "      <td>83900</td>\n",
       "      <td>USD</td>\n",
       "      <td>83900</td>\n",
       "      <td>US</td>\n",
       "      <td>0</td>\n",
       "      <td>US</td>\n",
       "      <td>M</td>\n",
       "    </tr>\n",
       "  </tbody>\n",
       "</table>\n",
       "<p>6773 rows × 11 columns</p>\n",
       "</div>"
      ],
      "text/plain": [
       "      work_year experience_level employment_type                  job_title  \\\n",
       "0          2022               EX              FT         Lead Data Engineer   \n",
       "1          2023               MI              FT         Research Scientist   \n",
       "2          2023               SE              FT              Data Engineer   \n",
       "3          2023               SE              FT  Machine Learning Engineer   \n",
       "4          2023               MI              FT               AI Scientist   \n",
       "...         ...              ...             ...                        ...   \n",
       "6768       2023               SE              FT              Data Engineer   \n",
       "6769       2022               SE              FT              Data Engineer   \n",
       "6770       2023               SE              FT       Data Science Manager   \n",
       "6771       2023               SE              FT  Machine Learning Engineer   \n",
       "6772       2023               MI              FT              Data Engineer   \n",
       "\n",
       "      salary salary_currency  salary_in_usd employee_residence  remote_ratio  \\\n",
       "0     150000             CAD         115222                 CA           100   \n",
       "1     130000             USD         130000                 US             0   \n",
       "2     116500             USD         116500                 US           100   \n",
       "3     138000             USD         138000                 US             0   \n",
       "4     120000             USD         120000                 DE           100   \n",
       "...      ...             ...            ...                ...           ...   \n",
       "6768  136000             USD         136000                 US           100   \n",
       "6769   63000             USD          63000                 US             0   \n",
       "6770  234900             USD         234900                 US             0   \n",
       "6771  125000             USD         125000                 US             0   \n",
       "6772   83900             USD          83900                 US             0   \n",
       "\n",
       "     company_location company_size  \n",
       "0                  CA            S  \n",
       "1                  US            M  \n",
       "2                  US            M  \n",
       "3                  US            M  \n",
       "4                  DE            M  \n",
       "...               ...          ...  \n",
       "6768               US            M  \n",
       "6769               US            M  \n",
       "6770               US            M  \n",
       "6771               US            M  \n",
       "6772               US            M  \n",
       "\n",
       "[6773 rows x 11 columns]"
      ]
     },
     "execution_count": 24,
     "metadata": {},
     "output_type": "execute_result"
    }
   ],
   "source": [
    "df_full_train"
   ]
  },
  {
   "cell_type": "code",
   "execution_count": 25,
   "metadata": {},
   "outputs": [
    {
     "data": {
      "text/plain": [
       "work_year             0\n",
       "experience_level      0\n",
       "employment_type       0\n",
       "job_title             0\n",
       "salary                0\n",
       "salary_currency       0\n",
       "salary_in_usd         0\n",
       "employee_residence    0\n",
       "remote_ratio          0\n",
       "company_location      0\n",
       "company_size          0\n",
       "dtype: int64"
      ]
     },
     "execution_count": 25,
     "metadata": {},
     "output_type": "execute_result"
    }
   ],
   "source": [
    "df_full_train.isnull().sum()"
   ]
  },
  {
   "cell_type": "code",
   "execution_count": 26,
   "metadata": {},
   "outputs": [
    {
     "data": {
      "text/plain": [
       "130000     0.022294\n",
       "150000     0.020966\n",
       "100000     0.019489\n",
       "160000     0.018751\n",
       "120000     0.018456\n",
       "             ...   \n",
       "207345     0.000148\n",
       "66200      0.000148\n",
       "1650000    0.000148\n",
       "152380     0.000148\n",
       "131712     0.000148\n",
       "Name: salary, Length: 1271, dtype: float64"
      ]
     },
     "execution_count": 26,
     "metadata": {},
     "output_type": "execute_result"
    }
   ],
   "source": [
    "df_full_train.salary.value_counts(normalize=True)"
   ]
  },
  {
   "cell_type": "code",
   "execution_count": 27,
   "metadata": {},
   "outputs": [
    {
     "data": {
      "text/plain": [
       "<bound method IndexOpsMixin.value_counts of 0       150000\n",
       "1       130000\n",
       "2       116500\n",
       "3       138000\n",
       "4       120000\n",
       "         ...  \n",
       "6768    136000\n",
       "6769     63000\n",
       "6770    234900\n",
       "6771    125000\n",
       "6772     83900\n",
       "Name: salary, Length: 6773, dtype: int64>"
      ]
     },
     "execution_count": 27,
     "metadata": {},
     "output_type": "execute_result"
    }
   ],
   "source": [
    "df_full_train.salary.value_counts"
   ]
  },
  {
   "cell_type": "code",
   "execution_count": 28,
   "metadata": {},
   "outputs": [
    {
     "data": {
      "text/plain": [
       "171966.00413406172"
      ]
     },
     "execution_count": 28,
     "metadata": {},
     "output_type": "execute_result"
    }
   ],
   "source": [
    "df_full_train.salary.mean()"
   ]
  },
  {
   "cell_type": "code",
   "execution_count": 29,
   "metadata": {},
   "outputs": [
    {
     "data": {
      "text/plain": [
       "171966.0"
      ]
     },
     "execution_count": 29,
     "metadata": {},
     "output_type": "execute_result"
    }
   ],
   "source": [
    "global_salary_rate = df_full_train.salary.mean()\n",
    "round(global_salary_rate, 2)"
   ]
  },
  {
   "cell_type": "code",
   "execution_count": 30,
   "metadata": {},
   "outputs": [],
   "source": [
    "numerical = ['salary', 'remote_ratio'] "
   ]
  },
  {
   "cell_type": "code",
   "execution_count": 31,
   "metadata": {},
   "outputs": [
    {
     "data": {
      "text/plain": [
       "Index(['work_year', 'experience_level', 'employment_type', 'job_title',\n",
       "       'salary', 'salary_currency', 'salary_in_usd', 'employee_residence',\n",
       "       'remote_ratio', 'company_location', 'company_size'],\n",
       "      dtype='object')"
      ]
     },
     "execution_count": 31,
     "metadata": {},
     "output_type": "execute_result"
    }
   ],
   "source": [
    "df_full_train.columns"
   ]
  },
  {
   "cell_type": "code",
   "execution_count": 32,
   "metadata": {},
   "outputs": [],
   "source": [
    "categorical = ['work_year', 'experience_level', 'employment_type', 'job_title',\n",
    "       'salary', 'salary_currency', 'employee_residence','company_location', 'company_size'] "
   ]
  },
  {
   "cell_type": "code",
   "execution_count": 33,
   "metadata": {},
   "outputs": [
    {
     "data": {
      "text/plain": [
       "work_year                4\n",
       "experience_level         4\n",
       "employment_type          4\n",
       "job_title              116\n",
       "salary                1271\n",
       "salary_currency         21\n",
       "employee_residence      82\n",
       "company_location        69\n",
       "company_size             3\n",
       "dtype: int64"
      ]
     },
     "execution_count": 33,
     "metadata": {},
     "output_type": "execute_result"
    }
   ],
   "source": [
    "df_full_train[categorical].nunique()"
   ]
  },
  {
   "cell_type": "code",
   "execution_count": 34,
   "metadata": {},
   "outputs": [
    {
     "data": {
      "text/plain": [
       "salary          1271\n",
       "remote_ratio       3\n",
       "dtype: int64"
      ]
     },
     "execution_count": 34,
     "metadata": {},
     "output_type": "execute_result"
    }
   ],
   "source": [
    "df_full_train[numerical].nunique()"
   ]
  },
  {
   "cell_type": "code",
   "execution_count": 35,
   "metadata": {},
   "outputs": [],
   "source": [
    "from sklearn.metrics import mutual_info_score"
   ]
  },
  {
   "cell_type": "code",
   "execution_count": 36,
   "metadata": {},
   "outputs": [
    {
     "data": {
      "text/plain": [
       "0.2802483571716729"
      ]
     },
     "execution_count": 36,
     "metadata": {},
     "output_type": "execute_result"
    }
   ],
   "source": [
    "mutual_info_score(df_full_train.salary, df_full_train.remote_ratio)"
   ]
  },
  {
   "cell_type": "code",
   "execution_count": 37,
   "metadata": {},
   "outputs": [
    {
     "data": {
      "text/plain": [
       "0.17925422981396447"
      ]
     },
     "execution_count": 37,
     "metadata": {},
     "output_type": "execute_result"
    }
   ],
   "source": [
    "mutual_info_score(df_full_train.salary, df_full_train.company_size)"
   ]
  },
  {
   "cell_type": "code",
   "execution_count": 38,
   "metadata": {},
   "outputs": [
    {
     "data": {
      "text/plain": [
       "0.3380439764122505"
      ]
     },
     "execution_count": 38,
     "metadata": {},
     "output_type": "execute_result"
    }
   ],
   "source": [
    "mutual_info_score(df_full_train.salary, df_full_train.experience_level)"
   ]
  },
  {
   "cell_type": "code",
   "execution_count": 39,
   "metadata": {},
   "outputs": [
    {
     "data": {
      "text/plain": [
       "0.4465536484031263"
      ]
     },
     "execution_count": 39,
     "metadata": {},
     "output_type": "execute_result"
    }
   ],
   "source": [
    "mutual_info_score(df_full_train.salary, df_full_train.company_location)"
   ]
  },
  {
   "cell_type": "code",
   "execution_count": 40,
   "metadata": {},
   "outputs": [
    {
     "data": {
      "text/plain": [
       "work_year             0.220464\n",
       "experience_level      0.338044\n",
       "employment_type       0.020381\n",
       "job_title             1.326856\n",
       "salary                5.983401\n",
       "salary_currency       0.270285\n",
       "employee_residence    0.475296\n",
       "company_location      0.446554\n",
       "company_size          0.179254\n",
       "dtype: float64"
      ]
     },
     "execution_count": 40,
     "metadata": {},
     "output_type": "execute_result"
    }
   ],
   "source": [
    "df_full_train[categorical].apply(lambda series: mutual_info_score(series, df_full_train.salary))"
   ]
  },
  {
   "cell_type": "code",
   "execution_count": 41,
   "metadata": {},
   "outputs": [],
   "source": [
    "mi = df_full_train[categorical].apply(lambda series: mutual_info_score(series, df_full_train.salary)).sort_values(ascending=False).to_frame(name='MI')"
   ]
  },
  {
   "cell_type": "code",
   "execution_count": 42,
   "metadata": {},
   "outputs": [
    {
     "data": {
      "text/html": [
       "<div>\n",
       "<style scoped>\n",
       "    .dataframe tbody tr th:only-of-type {\n",
       "        vertical-align: middle;\n",
       "    }\n",
       "\n",
       "    .dataframe tbody tr th {\n",
       "        vertical-align: top;\n",
       "    }\n",
       "\n",
       "    .dataframe thead th {\n",
       "        text-align: right;\n",
       "    }\n",
       "</style>\n",
       "<table border=\"1\" class=\"dataframe\">\n",
       "  <thead>\n",
       "    <tr style=\"text-align: right;\">\n",
       "      <th></th>\n",
       "      <th>MI</th>\n",
       "    </tr>\n",
       "  </thead>\n",
       "  <tbody>\n",
       "    <tr>\n",
       "      <th>salary</th>\n",
       "      <td>5.983401</td>\n",
       "    </tr>\n",
       "    <tr>\n",
       "      <th>job_title</th>\n",
       "      <td>1.326856</td>\n",
       "    </tr>\n",
       "    <tr>\n",
       "      <th>employee_residence</th>\n",
       "      <td>0.475296</td>\n",
       "    </tr>\n",
       "    <tr>\n",
       "      <th>company_location</th>\n",
       "      <td>0.446554</td>\n",
       "    </tr>\n",
       "    <tr>\n",
       "      <th>experience_level</th>\n",
       "      <td>0.338044</td>\n",
       "    </tr>\n",
       "    <tr>\n",
       "      <th>salary_currency</th>\n",
       "      <td>0.270285</td>\n",
       "    </tr>\n",
       "    <tr>\n",
       "      <th>work_year</th>\n",
       "      <td>0.220464</td>\n",
       "    </tr>\n",
       "    <tr>\n",
       "      <th>company_size</th>\n",
       "      <td>0.179254</td>\n",
       "    </tr>\n",
       "    <tr>\n",
       "      <th>employment_type</th>\n",
       "      <td>0.020381</td>\n",
       "    </tr>\n",
       "  </tbody>\n",
       "</table>\n",
       "</div>"
      ],
      "text/plain": [
       "                          MI\n",
       "salary              5.983401\n",
       "job_title           1.326856\n",
       "employee_residence  0.475296\n",
       "company_location    0.446554\n",
       "experience_level    0.338044\n",
       "salary_currency     0.270285\n",
       "work_year           0.220464\n",
       "company_size        0.179254\n",
       "employment_type     0.020381"
      ]
     },
     "execution_count": 42,
     "metadata": {},
     "output_type": "execute_result"
    }
   ],
   "source": [
    "mi"
   ]
  },
  {
   "cell_type": "code",
   "execution_count": 43,
   "metadata": {},
   "outputs": [
    {
     "data": {
      "text/plain": [
       "Index(['work_year', 'experience_level', 'employment_type', 'job_title',\n",
       "       'salary', 'salary_currency', 'salary_in_usd', 'employee_residence',\n",
       "       'remote_ratio', 'company_location', 'company_size'],\n",
       "      dtype='object')"
      ]
     },
     "execution_count": 43,
     "metadata": {},
     "output_type": "execute_result"
    }
   ],
   "source": [
    "df_full_train.columns"
   ]
  },
  {
   "cell_type": "code",
   "execution_count": 44,
   "metadata": {},
   "outputs": [
    {
     "data": {
      "text/html": [
       "<div>\n",
       "<style scoped>\n",
       "    .dataframe tbody tr th:only-of-type {\n",
       "        vertical-align: middle;\n",
       "    }\n",
       "\n",
       "    .dataframe tbody tr th {\n",
       "        vertical-align: top;\n",
       "    }\n",
       "\n",
       "    .dataframe thead th {\n",
       "        text-align: right;\n",
       "    }\n",
       "</style>\n",
       "<table border=\"1\" class=\"dataframe\">\n",
       "  <thead>\n",
       "    <tr style=\"text-align: right;\">\n",
       "      <th></th>\n",
       "      <th>salary</th>\n",
       "      <th>remote_ratio</th>\n",
       "    </tr>\n",
       "  </thead>\n",
       "  <tbody>\n",
       "    <tr>\n",
       "      <th>0</th>\n",
       "      <td>150000</td>\n",
       "      <td>100</td>\n",
       "    </tr>\n",
       "    <tr>\n",
       "      <th>1</th>\n",
       "      <td>130000</td>\n",
       "      <td>0</td>\n",
       "    </tr>\n",
       "    <tr>\n",
       "      <th>2</th>\n",
       "      <td>116500</td>\n",
       "      <td>100</td>\n",
       "    </tr>\n",
       "    <tr>\n",
       "      <th>3</th>\n",
       "      <td>138000</td>\n",
       "      <td>0</td>\n",
       "    </tr>\n",
       "    <tr>\n",
       "      <th>4</th>\n",
       "      <td>120000</td>\n",
       "      <td>100</td>\n",
       "    </tr>\n",
       "    <tr>\n",
       "      <th>...</th>\n",
       "      <td>...</td>\n",
       "      <td>...</td>\n",
       "    </tr>\n",
       "    <tr>\n",
       "      <th>6768</th>\n",
       "      <td>136000</td>\n",
       "      <td>100</td>\n",
       "    </tr>\n",
       "    <tr>\n",
       "      <th>6769</th>\n",
       "      <td>63000</td>\n",
       "      <td>0</td>\n",
       "    </tr>\n",
       "    <tr>\n",
       "      <th>6770</th>\n",
       "      <td>234900</td>\n",
       "      <td>0</td>\n",
       "    </tr>\n",
       "    <tr>\n",
       "      <th>6771</th>\n",
       "      <td>125000</td>\n",
       "      <td>0</td>\n",
       "    </tr>\n",
       "    <tr>\n",
       "      <th>6772</th>\n",
       "      <td>83900</td>\n",
       "      <td>0</td>\n",
       "    </tr>\n",
       "  </tbody>\n",
       "</table>\n",
       "<p>6773 rows × 2 columns</p>\n",
       "</div>"
      ],
      "text/plain": [
       "      salary  remote_ratio\n",
       "0     150000           100\n",
       "1     130000             0\n",
       "2     116500           100\n",
       "3     138000             0\n",
       "4     120000           100\n",
       "...      ...           ...\n",
       "6768  136000           100\n",
       "6769   63000             0\n",
       "6770  234900             0\n",
       "6771  125000             0\n",
       "6772   83900             0\n",
       "\n",
       "[6773 rows x 2 columns]"
      ]
     },
     "execution_count": 44,
     "metadata": {},
     "output_type": "execute_result"
    }
   ],
   "source": [
    "df_full_train[numerical]"
   ]
  },
  {
   "cell_type": "code",
   "execution_count": 45,
   "metadata": {},
   "outputs": [
    {
     "data": {
      "text/plain": [
       "salary          1.000000\n",
       "remote_ratio    0.019053\n",
       "dtype: float64"
      ]
     },
     "execution_count": 45,
     "metadata": {},
     "output_type": "execute_result"
    }
   ],
   "source": [
    "df_full_train[numerical].corrwith(df_full_train.salary)"
   ]
  },
  {
   "cell_type": "code",
   "execution_count": 46,
   "metadata": {},
   "outputs": [],
   "source": [
    "from sklearn.feature_extraction import DictVectorizer"
   ]
  },
  {
   "cell_type": "code",
   "execution_count": 47,
   "metadata": {},
   "outputs": [
    {
     "name": "stderr",
     "output_type": "stream",
     "text": [
      "/tmp/ipykernel_124780/2502572990.py:1: UserWarning: DataFrame columns are not unique, some columns will be omitted.\n",
      "  dicts = df_train[categorical + numerical].to_dict(orient='records')\n"
     ]
    }
   ],
   "source": [
    "dicts = df_train[categorical + numerical].to_dict(orient='records')"
   ]
  },
  {
   "cell_type": "code",
   "execution_count": 48,
   "metadata": {},
   "outputs": [
    {
     "name": "stderr",
     "output_type": "stream",
     "text": [
      "/tmp/ipykernel_124780/535437261.py:1: UserWarning: DataFrame columns are not unique, some columns will be omitted.\n",
      "  train_dicts = df_train[categorical + numerical].to_dict(orient='records')\n"
     ]
    }
   ],
   "source": [
    "train_dicts = df_train[categorical + numerical].to_dict(orient='records')"
   ]
  },
  {
   "cell_type": "code",
   "execution_count": 49,
   "metadata": {},
   "outputs": [
    {
     "data": {
      "text/plain": [
       "{'work_year': 2023,\n",
       " 'experience_level': 'SE',\n",
       " 'employment_type': 'FT',\n",
       " 'job_title': 'Data Engineer',\n",
       " 'salary': 96000,\n",
       " 'salary_currency': 'USD',\n",
       " 'employee_residence': 'US',\n",
       " 'company_location': 'US',\n",
       " 'company_size': 'M',\n",
       " 'remote_ratio': 0}"
      ]
     },
     "execution_count": 49,
     "metadata": {},
     "output_type": "execute_result"
    }
   ],
   "source": [
    "train_dicts[0]"
   ]
  },
  {
   "cell_type": "code",
   "execution_count": 50,
   "metadata": {},
   "outputs": [],
   "source": [
    "dv = DictVectorizer(sparse=False)"
   ]
  },
  {
   "cell_type": "code",
   "execution_count": 51,
   "metadata": {},
   "outputs": [],
   "source": [
    "x_train = dv.fit_transform(train_dicts)"
   ]
  },
  {
   "cell_type": "code",
   "execution_count": 52,
   "metadata": {},
   "outputs": [
    {
     "data": {
      "text/plain": [
       "array(['company_location=AD', 'company_location=AE',\n",
       "       'company_location=AR', 'company_location=AS',\n",
       "       'company_location=AT', 'company_location=AU',\n",
       "       'company_location=BA', 'company_location=BE',\n",
       "       'company_location=BR', 'company_location=BS',\n",
       "       'company_location=CA', 'company_location=CH',\n",
       "       'company_location=CO', 'company_location=CZ',\n",
       "       'company_location=DE', 'company_location=DK',\n",
       "       'company_location=DZ', 'company_location=EE',\n",
       "       'company_location=ES', 'company_location=FI',\n",
       "       'company_location=FR', 'company_location=GB',\n",
       "       'company_location=GH', 'company_location=GR',\n",
       "       'company_location=HN', 'company_location=HR',\n",
       "       'company_location=HU', 'company_location=IE',\n",
       "       'company_location=IL', 'company_location=IN',\n",
       "       'company_location=IQ', 'company_location=IR',\n",
       "       'company_location=IT', 'company_location=JP',\n",
       "       'company_location=KE', 'company_location=KR',\n",
       "       'company_location=LT', 'company_location=LV',\n",
       "       'company_location=MD', 'company_location=MX',\n",
       "       'company_location=NG', 'company_location=NL',\n",
       "       'company_location=NO', 'company_location=PH',\n",
       "       'company_location=PK', 'company_location=PL',\n",
       "       'company_location=PR', 'company_location=PT',\n",
       "       'company_location=QA', 'company_location=RO',\n",
       "       'company_location=RU', 'company_location=SA',\n",
       "       'company_location=SE', 'company_location=SG',\n",
       "       'company_location=SI', 'company_location=TH',\n",
       "       'company_location=TR', 'company_location=UA',\n",
       "       'company_location=US', 'company_size=L', 'company_size=M',\n",
       "       'company_size=S', 'employee_residence=AD', 'employee_residence=AE',\n",
       "       'employee_residence=AM', 'employee_residence=AR',\n",
       "       'employee_residence=AS', 'employee_residence=AT',\n",
       "       'employee_residence=AU', 'employee_residence=BA',\n",
       "       'employee_residence=BE', 'employee_residence=BO',\n",
       "       'employee_residence=BR', 'employee_residence=CA',\n",
       "       'employee_residence=CH', 'employee_residence=CL',\n",
       "       'employee_residence=CN', 'employee_residence=CO',\n",
       "       'employee_residence=CR', 'employee_residence=CY',\n",
       "       'employee_residence=CZ', 'employee_residence=DE',\n",
       "       'employee_residence=DK', 'employee_residence=DO',\n",
       "       'employee_residence=DZ', 'employee_residence=EE',\n",
       "       'employee_residence=ES', 'employee_residence=FI',\n",
       "       'employee_residence=FR', 'employee_residence=GB',\n",
       "       'employee_residence=GE', 'employee_residence=GH',\n",
       "       'employee_residence=GR', 'employee_residence=HK',\n",
       "       'employee_residence=HN', 'employee_residence=HR',\n",
       "       'employee_residence=HU', 'employee_residence=IE',\n",
       "       'employee_residence=IL', 'employee_residence=IN',\n",
       "       'employee_residence=IQ', 'employee_residence=IR',\n",
       "       'employee_residence=IT', 'employee_residence=JP',\n",
       "       'employee_residence=KE', 'employee_residence=KR',\n",
       "       'employee_residence=LT', 'employee_residence=LV',\n",
       "       'employee_residence=MD', 'employee_residence=MX',\n",
       "       'employee_residence=MY', 'employee_residence=NG',\n",
       "       'employee_residence=NL', 'employee_residence=NO',\n",
       "       'employee_residence=PE', 'employee_residence=PH',\n",
       "       'employee_residence=PK', 'employee_residence=PL',\n",
       "       'employee_residence=PR', 'employee_residence=PT',\n",
       "       'employee_residence=QA', 'employee_residence=RO',\n",
       "       'employee_residence=RU', 'employee_residence=SA',\n",
       "       'employee_residence=SE', 'employee_residence=SG',\n",
       "       'employee_residence=SI', 'employee_residence=TH',\n",
       "       'employee_residence=TN', 'employee_residence=TR',\n",
       "       'employee_residence=UA', 'employee_residence=UG',\n",
       "       'employee_residence=US', 'employee_residence=UZ',\n",
       "       'employee_residence=VN', 'employment_type=CT',\n",
       "       'employment_type=FL', 'employment_type=FT', 'employment_type=PT',\n",
       "       'experience_level=EN', 'experience_level=EX',\n",
       "       'experience_level=MI', 'experience_level=SE',\n",
       "       'job_title=AI Architect', 'job_title=AI Developer',\n",
       "       'job_title=AI Engineer', 'job_title=AI Programmer',\n",
       "       'job_title=AI Research Engineer', 'job_title=AI Scientist',\n",
       "       'job_title=Analytics Engineer',\n",
       "       'job_title=Analytics Engineering Manager',\n",
       "       'job_title=Applied Data Scientist',\n",
       "       'job_title=Applied Machine Learning Engineer',\n",
       "       'job_title=Applied Machine Learning Scientist',\n",
       "       'job_title=Applied Scientist',\n",
       "       'job_title=Autonomous Vehicle Technician',\n",
       "       'job_title=Azure Data Engineer', 'job_title=BI Analyst',\n",
       "       'job_title=BI Data Analyst', 'job_title=BI Developer',\n",
       "       'job_title=Big Data Architect', 'job_title=Big Data Engineer',\n",
       "       'job_title=Business Data Analyst',\n",
       "       'job_title=Business Intelligence Analyst',\n",
       "       'job_title=Business Intelligence Data Analyst',\n",
       "       'job_title=Business Intelligence Developer',\n",
       "       'job_title=Business Intelligence Engineer',\n",
       "       'job_title=Business Intelligence Specialist',\n",
       "       'job_title=Cloud Data Architect', 'job_title=Cloud Data Engineer',\n",
       "       'job_title=Cloud Database Engineer',\n",
       "       'job_title=Compliance Data Analyst',\n",
       "       'job_title=Computer Vision Engineer',\n",
       "       'job_title=Computer Vision Software Engineer',\n",
       "       'job_title=Consultant Data Engineer', 'job_title=Data Analyst',\n",
       "       'job_title=Data Analytics Consultant',\n",
       "       'job_title=Data Analytics Engineer',\n",
       "       'job_title=Data Analytics Lead',\n",
       "       'job_title=Data Analytics Manager', 'job_title=Data Architect',\n",
       "       'job_title=Data DevOps Engineer', 'job_title=Data Developer',\n",
       "       'job_title=Data Engineer',\n",
       "       'job_title=Data Infrastructure Engineer',\n",
       "       'job_title=Data Integration Specialist', 'job_title=Data Lead',\n",
       "       'job_title=Data Management Specialist', 'job_title=Data Manager',\n",
       "       'job_title=Data Modeler', 'job_title=Data Operations Analyst',\n",
       "       'job_title=Data Operations Engineer',\n",
       "       'job_title=Data Operations Manager',\n",
       "       'job_title=Data Operations Specialist',\n",
       "       'job_title=Data Product Manager', 'job_title=Data Quality Analyst',\n",
       "       'job_title=Data Quality Engineer',\n",
       "       'job_title=Data Science Consultant',\n",
       "       'job_title=Data Science Engineer', 'job_title=Data Science Lead',\n",
       "       'job_title=Data Science Manager',\n",
       "       'job_title=Data Science Practitioner',\n",
       "       'job_title=Data Science Tech Lead', 'job_title=Data Scientist',\n",
       "       'job_title=Data Scientist Lead', 'job_title=Data Specialist',\n",
       "       'job_title=Data Strategist', 'job_title=Data Strategy Manager',\n",
       "       'job_title=Data Visualization Analyst',\n",
       "       'job_title=Data Visualization Engineer',\n",
       "       'job_title=Data Visualization Specialist',\n",
       "       'job_title=Decision Scientist', 'job_title=Deep Learning Engineer',\n",
       "       'job_title=Deep Learning Researcher',\n",
       "       'job_title=Director of Data Science', 'job_title=ETL Developer',\n",
       "       'job_title=ETL Engineer', 'job_title=Finance Data Analyst',\n",
       "       'job_title=Financial Data Analyst', 'job_title=Head of Data',\n",
       "       'job_title=Head of Data Science',\n",
       "       'job_title=Head of Machine Learning', 'job_title=Insight Analyst',\n",
       "       'job_title=Lead Data Analyst', 'job_title=Lead Data Engineer',\n",
       "       'job_title=Lead Data Scientist',\n",
       "       'job_title=Lead Machine Learning Engineer',\n",
       "       'job_title=ML Engineer', 'job_title=MLOps Engineer',\n",
       "       'job_title=Machine Learning Developer',\n",
       "       'job_title=Machine Learning Engineer',\n",
       "       'job_title=Machine Learning Infrastructure Engineer',\n",
       "       'job_title=Machine Learning Manager',\n",
       "       'job_title=Machine Learning Operations Engineer',\n",
       "       'job_title=Machine Learning Research Engineer',\n",
       "       'job_title=Machine Learning Researcher',\n",
       "       'job_title=Machine Learning Scientist',\n",
       "       'job_title=Machine Learning Software Engineer',\n",
       "       'job_title=Machine Learning Specialist',\n",
       "       'job_title=Managing Director Data Science',\n",
       "       'job_title=Marketing Data Analyst',\n",
       "       'job_title=Marketing Data Engineer', 'job_title=NLP Engineer',\n",
       "       'job_title=Principal Data Analyst',\n",
       "       'job_title=Principal Data Architect',\n",
       "       'job_title=Principal Data Engineer',\n",
       "       'job_title=Principal Data Scientist',\n",
       "       'job_title=Principal Machine Learning Engineer',\n",
       "       'job_title=Product Data Analyst', 'job_title=Research Analyst',\n",
       "       'job_title=Research Engineer', 'job_title=Research Scientist',\n",
       "       'job_title=Software Data Engineer', 'job_title=Staff Data Analyst',\n",
       "       'job_title=Staff Data Scientist',\n",
       "       'job_title=Staff Machine Learning Engineer', 'remote_ratio',\n",
       "       'salary', 'salary_currency=AUD', 'salary_currency=BRL',\n",
       "       'salary_currency=CAD', 'salary_currency=CHF',\n",
       "       'salary_currency=DKK', 'salary_currency=EUR',\n",
       "       'salary_currency=GBP', 'salary_currency=HUF',\n",
       "       'salary_currency=ILS', 'salary_currency=INR',\n",
       "       'salary_currency=JPY', 'salary_currency=MXN',\n",
       "       'salary_currency=NOK', 'salary_currency=PLN',\n",
       "       'salary_currency=SGD', 'salary_currency=THB',\n",
       "       'salary_currency=TRY', 'salary_currency=USD', 'work_year'],\n",
       "      dtype=object)"
      ]
     },
     "execution_count": 52,
     "metadata": {},
     "output_type": "execute_result"
    }
   ],
   "source": [
    "dv.get_feature_names_out()"
   ]
  },
  {
   "cell_type": "code",
   "execution_count": 53,
   "metadata": {},
   "outputs": [
    {
     "data": {
      "text/plain": [
       "(5079, 277)"
      ]
     },
     "execution_count": 53,
     "metadata": {},
     "output_type": "execute_result"
    }
   ],
   "source": [
    "x_train.shape"
   ]
  },
  {
   "cell_type": "code",
   "execution_count": 54,
   "metadata": {},
   "outputs": [
    {
     "name": "stderr",
     "output_type": "stream",
     "text": [
      "/tmp/ipykernel_124780/2096832447.py:1: UserWarning: DataFrame columns are not unique, some columns will be omitted.\n",
      "  val_dicts = df_val[categorical + numerical].to_dict(orient='records')\n"
     ]
    }
   ],
   "source": [
    "val_dicts = df_val[categorical + numerical].to_dict(orient='records')"
   ]
  },
  {
   "cell_type": "code",
   "execution_count": 55,
   "metadata": {},
   "outputs": [],
   "source": [
    "x_val = dv.transform(val_dicts)"
   ]
  },
  {
   "cell_type": "code",
   "execution_count": 56,
   "metadata": {},
   "outputs": [
    {
     "data": {
      "text/plain": [
       "(1694, 277)"
      ]
     },
     "execution_count": 56,
     "metadata": {},
     "output_type": "execute_result"
    }
   ],
   "source": [
    "x_val.shape"
   ]
  },
  {
   "cell_type": "code",
   "execution_count": 57,
   "metadata": {},
   "outputs": [
    {
     "data": {
      "text/plain": [
       "(-18217000541.228188,\n",
       " array([-3.32032198e+04,  7.36160665e+11,  1.35880433e+10,  1.35883295e+10,\n",
       "         1.35880175e+10,  1.35881107e+10,  2.15488007e+09,  1.35880512e+10,\n",
       "         1.35880382e+10,  1.09676109e+10,  1.35880637e+10,  1.35882986e+10,\n",
       "         1.35971832e+10,  1.35880758e+10,  1.35880157e+10,  1.35880232e+10,\n",
       "         8.55020641e+08,  1.48434957e+10,  1.35880467e+10,  1.35879846e+10,\n",
       "         1.35880568e+10,  1.35880527e+10,  1.35880484e+10,  1.35880744e+10,\n",
       "         1.15128606e+10,  1.35881375e+10,  6.30174066e+09,  1.13993208e+10,\n",
       "         1.35881858e+10,  1.35882225e+10,  1.14865206e+10,  1.14363583e+10,\n",
       "         1.35880551e+10,  1.35880992e+10,  1.16224635e+10,  1.20323907e+10,\n",
       "         1.13565977e+10,  1.13822022e+10,  1.13198895e+10,  1.14002777e+10,\n",
       "         1.35880872e+10,  1.35880708e+10,  6.84489778e+09,  1.35880910e+10,\n",
       "         1.35880437e+10,  1.35880640e+10,  1.35880519e+10,  1.35881181e+10,\n",
       "         1.13917103e+10,  1.35879759e+10,  1.35880012e+10,  1.14162884e+10,\n",
       "         1.35880070e+10,  1.35881970e+10,  1.13295387e+10,  6.32269500e+09,\n",
       "         1.35880033e+10,  1.14702947e+10,  1.35880643e+10,  2.41217464e+08,\n",
       "         2.41222731e+08,  2.41203171e+08,  2.28644272e+10, -7.13296294e+11,\n",
       "         9.27631210e+09,  9.27628597e+09,  5.85171200e+09,  9.27638410e+09,\n",
       "         9.27632924e+09,  2.07095159e+10,  9.27633401e+09,  9.27627982e+09,\n",
       "         9.27628933e+09,  9.27634245e+09,  3.33077085e+09,  9.27637273e+09,\n",
       "         9.27640905e+09,  9.26716825e+09,  9.27629312e+09,  8.02087497e+09,\n",
       "         9.27626706e+09,  9.27639302e+09,  3.44832906e+09,  9.27634946e+09,\n",
       "         2.20093766e+10,  8.02088998e+09,  9.27632554e+09,  9.27638481e+09,\n",
       "         9.27633682e+09,  9.27634747e+09,  9.27633710e+09,  9.27629653e+09,\n",
       "         9.27632664e+09,  9.27636502e+09,  1.13514947e+10,  9.27629739e+09,\n",
       "         7.09447826e+09,  1.14650803e+10,  3.45751219e+09,  9.27615506e+09,\n",
       "         1.13778841e+10,  1.14280150e+10,  9.27632764e+09,  9.27631085e+09,\n",
       "         1.12418171e+10,  1.08320154e+10,  1.15078390e+10,  1.14821465e+10,\n",
       "         1.15443563e+10,  1.14640801e+10,  9.27633900e+09,  9.27622714e+09,\n",
       "         9.27632310e+09,  6.82475011e+09,  9.27622049e+09,  9.27628274e+09,\n",
       "         9.27628248e+09,  9.27631256e+09,  9.27636495e+09,  9.27630767e+09,\n",
       "         1.14728032e+10,  9.27635907e+09,  9.27631822e+09,  1.14481862e+10,\n",
       "         9.27633462e+09,  9.27624893e+09,  1.15348533e+10,  7.89985489e+09,\n",
       "         9.27630244e+09,  9.27630851e+09,  1.13940500e+10,  9.27624644e+09,\n",
       "         9.27634161e+09,  9.27631405e+09,  9.27626194e+09, -2.88388187e+08,\n",
       "        -2.88407768e+08, -2.88401772e+08, -2.88413162e+08, -2.06217714e+09,\n",
       "        -2.06211953e+09, -2.06216360e+09, -2.06214394e+09, -1.80620704e+08,\n",
       "        -1.80668794e+08, -1.80673588e+08, -1.80804949e+08, -1.80674242e+08,\n",
       "        -1.80687009e+08, -1.80693925e+08, -1.80445343e+08, -1.80598886e+08,\n",
       "        -1.80687836e+08, -1.80678268e+08, -1.80668397e+08,  5.86432674e+09,\n",
       "        -1.80730801e+08, -1.80717821e+08, -1.80705689e+08, -1.80728286e+08,\n",
       "        -1.80699447e+08, -1.80606022e+08, -1.80696579e+08, -1.80722297e+08,\n",
       "        -1.80710197e+08, -1.80736582e+08, -1.80703307e+08, -1.80731331e+08,\n",
       "        -1.80611820e+08, -1.80739720e+08, -1.80695877e+08, -1.80673633e+08,\n",
       "        -1.80650874e+08, -1.80716066e+08, -1.80704720e+08, -1.80725951e+08,\n",
       "        -1.80711534e+08, -1.80695677e+08, -1.80490699e+08, -1.80708270e+08,\n",
       "        -1.80694208e+08, -1.80706604e+08, -1.80721867e+08, -1.80699619e+08,\n",
       "        -1.80648543e+08, -1.80734174e+08, -1.80703212e+08, -1.80727383e+08,\n",
       "        -1.80728886e+08, -1.80722076e+08, -1.80745072e+08, -1.80702881e+08,\n",
       "        -1.80723672e+08, -1.80772209e+08, -1.80722692e+08, -1.80742881e+08,\n",
       "        -1.80723499e+08, -1.80711733e+08, -1.80691542e+08, -1.80673309e+08,\n",
       "        -1.80667679e+08, -1.80713308e+08, -1.80515838e+08, -1.80689887e+08,\n",
       "        -1.80672705e+08, -1.80730808e+08, -1.80749899e+08, -1.80745073e+08,\n",
       "        -1.80732781e+08, -1.80761923e+08, -1.80743841e+08, -1.80692580e+08,\n",
       "        -1.80649713e+08, -1.80679070e+08, -1.80640710e+08, -1.80705155e+08,\n",
       "        -1.80706238e+08, -1.80632393e+08, -1.80731276e+08, -1.80658806e+08,\n",
       "        -1.80726976e+08, -1.80645011e+08, -1.80735592e+08, -1.80638819e+08,\n",
       "        -1.80693593e+08, -1.80669134e+08, -1.81175986e+08, -1.80671587e+08,\n",
       "        -1.80689013e+08, -1.80684206e+08, -1.80670354e+08, -1.80677148e+08,\n",
       "        -1.80678055e+08,  1.19571258e+09, -1.80757280e+08, -1.80692196e+08,\n",
       "        -1.80672255e+08, -1.80644936e+08, -1.80751525e+08, -1.80590046e+08,\n",
       "        -1.80636286e+08, -1.80721605e+08, -1.80665885e+08, -1.80702123e+08,\n",
       "        -1.80805894e+08, -1.80659933e+08, -1.80628242e+08, -1.80678402e+08,\n",
       "        -1.80708947e+08, -1.80723498e+08, -1.80672319e+08, -1.80674388e+08,\n",
       "        -1.80714205e+08, -1.80712127e+08, -1.80681547e+08, -1.80669532e+08,\n",
       "        -1.84162884e+01,  1.92626953e-01, -2.36731225e+09, -2.36727680e+09,\n",
       "        -2.36726778e+09,  3.57811355e+09,  3.46073188e+09, -2.36726975e+09,\n",
       "        -2.36725893e+09,  7.09919448e+09,  3.45147566e+09, -2.36774810e+09,\n",
       "        -2.36835909e+09, -2.36737664e+09,  6.82731270e+09, -2.36729842e+09,\n",
       "        -2.36727290e+09,  6.27436656e+09, -2.36726720e+09, -2.36722365e+09,\n",
       "         4.92881088e+03]))"
      ]
     },
     "execution_count": 57,
     "metadata": {},
     "output_type": "execute_result"
    }
   ],
   "source": [
    "#Train a linear regression model\n",
    "\n",
    "from sklearn.linear_model import LinearRegression\n",
    "\n",
    "model = LinearRegression()\n",
    "\n",
    "model.fit(x_train, y_train)\n",
    "\n",
    "model.intercept_, model.coef_"
   ]
  },
  {
   "cell_type": "code",
   "execution_count": 58,
   "metadata": {},
   "outputs": [
    {
     "data": {
      "text/plain": [
       "array([141210.82338333, 129831.49559021, 168207.50774002, ...,\n",
       "       123089.55223083, 120200.14793777, 137472.29131699])"
      ]
     },
     "execution_count": 58,
     "metadata": {},
     "output_type": "execute_result"
    }
   ],
   "source": [
    "model.predict(x_val)"
   ]
  },
  {
   "cell_type": "code",
   "execution_count": 59,
   "metadata": {},
   "outputs": [],
   "source": [
    "y_pred = model.predict(x_val)"
   ]
  },
  {
   "cell_type": "code",
   "execution_count": 60,
   "metadata": {},
   "outputs": [
    {
     "data": {
      "text/plain": [
       "array([141210.82338333, 129831.49559021, 168207.50774002, ...,\n",
       "       123089.55223083, 120200.14793777, 137472.29131699])"
      ]
     },
     "execution_count": 60,
     "metadata": {},
     "output_type": "execute_result"
    }
   ],
   "source": [
    "y_pred "
   ]
  },
  {
   "cell_type": "code",
   "execution_count": 61,
   "metadata": {},
   "outputs": [],
   "source": [
    "df_pred = pd.DataFrame()\n",
    "df_pred['probability'] = y_pred\n",
    "df_pred['actual_value'] = y_val"
   ]
  },
  {
   "cell_type": "code",
   "execution_count": 62,
   "metadata": {},
   "outputs": [
    {
     "data": {
      "text/html": [
       "<div>\n",
       "<style scoped>\n",
       "    .dataframe tbody tr th:only-of-type {\n",
       "        vertical-align: middle;\n",
       "    }\n",
       "\n",
       "    .dataframe tbody tr th {\n",
       "        vertical-align: top;\n",
       "    }\n",
       "\n",
       "    .dataframe thead th {\n",
       "        text-align: right;\n",
       "    }\n",
       "</style>\n",
       "<table border=\"1\" class=\"dataframe\">\n",
       "  <thead>\n",
       "    <tr style=\"text-align: right;\">\n",
       "      <th></th>\n",
       "      <th>probability</th>\n",
       "      <th>actual_value</th>\n",
       "    </tr>\n",
       "  </thead>\n",
       "  <tbody>\n",
       "    <tr>\n",
       "      <th>0</th>\n",
       "      <td>141210.823383</td>\n",
       "      <td>104300</td>\n",
       "    </tr>\n",
       "    <tr>\n",
       "      <th>1</th>\n",
       "      <td>129831.495590</td>\n",
       "      <td>145000</td>\n",
       "    </tr>\n",
       "    <tr>\n",
       "      <th>2</th>\n",
       "      <td>168207.507740</td>\n",
       "      <td>157000</td>\n",
       "    </tr>\n",
       "    <tr>\n",
       "      <th>3</th>\n",
       "      <td>155301.501881</td>\n",
       "      <td>90000</td>\n",
       "    </tr>\n",
       "    <tr>\n",
       "      <th>4</th>\n",
       "      <td>175616.055523</td>\n",
       "      <td>185900</td>\n",
       "    </tr>\n",
       "    <tr>\n",
       "      <th>...</th>\n",
       "      <td>...</td>\n",
       "      <td>...</td>\n",
       "    </tr>\n",
       "    <tr>\n",
       "      <th>1689</th>\n",
       "      <td>151357.338425</td>\n",
       "      <td>162000</td>\n",
       "    </tr>\n",
       "    <tr>\n",
       "      <th>1690</th>\n",
       "      <td>223222.153133</td>\n",
       "      <td>331640</td>\n",
       "    </tr>\n",
       "    <tr>\n",
       "      <th>1691</th>\n",
       "      <td>123089.552231</td>\n",
       "      <td>110000</td>\n",
       "    </tr>\n",
       "    <tr>\n",
       "      <th>1692</th>\n",
       "      <td>120200.147938</td>\n",
       "      <td>95000</td>\n",
       "    </tr>\n",
       "    <tr>\n",
       "      <th>1693</th>\n",
       "      <td>137472.291317</td>\n",
       "      <td>150000</td>\n",
       "    </tr>\n",
       "  </tbody>\n",
       "</table>\n",
       "<p>1694 rows × 2 columns</p>\n",
       "</div>"
      ],
      "text/plain": [
       "        probability  actual_value\n",
       "0     141210.823383        104300\n",
       "1     129831.495590        145000\n",
       "2     168207.507740        157000\n",
       "3     155301.501881         90000\n",
       "4     175616.055523        185900\n",
       "...             ...           ...\n",
       "1689  151357.338425        162000\n",
       "1690  223222.153133        331640\n",
       "1691  123089.552231        110000\n",
       "1692  120200.147938         95000\n",
       "1693  137472.291317        150000\n",
       "\n",
       "[1694 rows x 2 columns]"
      ]
     },
     "execution_count": 62,
     "metadata": {},
     "output_type": "execute_result"
    }
   ],
   "source": [
    "df_pred"
   ]
  },
  {
   "cell_type": "code",
   "execution_count": 63,
   "metadata": {},
   "outputs": [
    {
     "name": "stderr",
     "output_type": "stream",
     "text": [
      "/tmp/ipykernel_124780/1833984242.py:1: UserWarning: DataFrame columns are not unique, some columns will be omitted.\n",
      "  dicts_df_full_train = df_full_train[categorical + numerical].to_dict(orient='records')\n"
     ]
    }
   ],
   "source": [
    "dicts_df_full_train = df_full_train[categorical + numerical].to_dict(orient='records')"
   ]
  },
  {
   "cell_type": "code",
   "execution_count": 64,
   "metadata": {},
   "outputs": [
    {
     "data": {
      "text/plain": [
       "{'work_year': 2022,\n",
       " 'experience_level': 'EX',\n",
       " 'employment_type': 'FT',\n",
       " 'job_title': 'Lead Data Engineer',\n",
       " 'salary': 150000,\n",
       " 'salary_currency': 'CAD',\n",
       " 'employee_residence': 'CA',\n",
       " 'company_location': 'CA',\n",
       " 'company_size': 'S',\n",
       " 'remote_ratio': 100}"
      ]
     },
     "execution_count": 64,
     "metadata": {},
     "output_type": "execute_result"
    }
   ],
   "source": [
    "dicts_df_full_train[0]"
   ]
  },
  {
   "cell_type": "code",
   "execution_count": 65,
   "metadata": {},
   "outputs": [],
   "source": [
    "dv = DictVectorizer(sparse=False)\n",
    "X_full_train = dv.fit_transform(dicts_df_full_train)"
   ]
  },
  {
   "cell_type": "code",
   "execution_count": 66,
   "metadata": {},
   "outputs": [],
   "source": [
    "y_full_train = df_full_train.salary.values"
   ]
  },
  {
   "cell_type": "code",
   "execution_count": 67,
   "metadata": {},
   "outputs": [],
   "source": [
    "model = LinearRegression().fit(X_full_train, y_full_train)"
   ]
  },
  {
   "cell_type": "code",
   "execution_count": 68,
   "metadata": {},
   "outputs": [
    {
     "name": "stderr",
     "output_type": "stream",
     "text": [
      "/tmp/ipykernel_124780/3413914366.py:1: UserWarning: DataFrame columns are not unique, some columns will be omitted.\n",
      "  dicts_test = df_test[categorical + numerical].to_dict(orient='records')\n"
     ]
    }
   ],
   "source": [
    "dicts_test = df_test[categorical + numerical].to_dict(orient='records')"
   ]
  },
  {
   "cell_type": "code",
   "execution_count": 69,
   "metadata": {},
   "outputs": [],
   "source": [
    "\n",
    "X_full_test = dv.transform(dicts_test)"
   ]
  },
  {
   "cell_type": "code",
   "execution_count": 71,
   "metadata": {},
   "outputs": [],
   "source": [
    "y_pred = model.predict(X_full_test)"
   ]
  },
  {
   "cell_type": "code",
   "execution_count": 72,
   "metadata": {},
   "outputs": [
    {
     "data": {
      "text/plain": [
       "array([   92000.      ,   192000.      ,   135000.      , ...,\n",
       "         145000.      ,   200160.      , 30399999.999761])"
      ]
     },
     "execution_count": 72,
     "metadata": {},
     "output_type": "execute_result"
    }
   ],
   "source": [
    "y_pred"
   ]
  },
  {
   "cell_type": "code",
   "execution_count": 73,
   "metadata": {},
   "outputs": [
    {
     "data": {
      "text/plain": [
       "{'work_year': 2023,\n",
       " 'experience_level': 'MI',\n",
       " 'employment_type': 'FT',\n",
       " 'job_title': 'Data Analyst',\n",
       " 'salary': 70000,\n",
       " 'salary_currency': 'USD',\n",
       " 'employee_residence': 'US',\n",
       " 'company_location': 'US',\n",
       " 'company_size': 'M',\n",
       " 'remote_ratio': 0}"
      ]
     },
     "execution_count": 73,
     "metadata": {},
     "output_type": "execute_result"
    }
   ],
   "source": [
    "dicts_test[10]"
   ]
  },
  {
   "cell_type": "code",
   "execution_count": 74,
   "metadata": {},
   "outputs": [],
   "source": [
    "data_scientist = dicts_test[10]\n",
    "\n",
    "X_small = dv.transform([data_scientist])"
   ]
  },
  {
   "cell_type": "code",
   "execution_count": 75,
   "metadata": {},
   "outputs": [
    {
     "data": {
      "text/plain": [
       "(1, 302)"
      ]
     },
     "execution_count": 75,
     "metadata": {},
     "output_type": "execute_result"
    }
   ],
   "source": [
    "X_small.shape"
   ]
  },
  {
   "cell_type": "code",
   "execution_count": 77,
   "metadata": {},
   "outputs": [
    {
     "data": {
      "text/plain": [
       "69999.99999999997"
      ]
     },
     "execution_count": 77,
     "metadata": {},
     "output_type": "execute_result"
    }
   ],
   "source": [
    "model.predict(X_small)[0]"
   ]
  },
  {
   "cell_type": "code",
   "execution_count": 78,
   "metadata": {},
   "outputs": [
    {
     "name": "stdout",
     "output_type": "stream",
     "text": [
      "Number of features in x_train: 277\n"
     ]
    }
   ],
   "source": [
    "#Decision Tree on same data\n",
    "\n",
    "from sklearn.tree import DecisionTreeRegressor\n",
    "from sklearn.tree import export_text\n",
    "\n",
    "dt = DecisionTreeRegressor(max_depth=2)\n",
    "dt.fit(x_train, y_train)\n",
    "\n",
    "# Check if there are any additional features in x_train\n",
    "print(\"Number of features in x_train:\", x_train.shape[1])\n",
    "\n",
    "\n",
    "\n",
    "\n",
    "\n"
   ]
  },
  {
   "cell_type": "code",
   "execution_count": 79,
   "metadata": {},
   "outputs": [],
   "source": [
    "#Predict using Decision Tree\n",
    "\n",
    "y_pred = dt.predict(x_val)"
   ]
  },
  {
   "cell_type": "code",
   "execution_count": 80,
   "metadata": {},
   "outputs": [
    {
     "name": "stdout",
     "output_type": "stream",
     "text": [
      "Predicted values: [130722.7 130722.7 130722.7 ... 130722.7  74039.8 130722.7]\n"
     ]
    }
   ],
   "source": [
    "print(\"Predicted values:\", y_pred.round(1))"
   ]
  },
  {
   "cell_type": "code",
   "execution_count": 81,
   "metadata": {},
   "outputs": [
    {
     "name": "stdout",
     "output_type": "stream",
     "text": [
      "Predicted values: [104300. 145000. 157000. ... 110000.  95000. 150000.]\n"
     ]
    }
   ],
   "source": [
    "#Random Forest on same data\n",
    "\n",
    "from sklearn.ensemble import RandomForestRegressor\n",
    "\n",
    "rf = RandomForestRegressor(n_estimators=10, random_state=1, n_jobs=-1)\n",
    "\n",
    "rf.fit(x_train, y_train)\n",
    "\n",
    "y_pred = rf.predict(x_val)\n",
    "\n",
    "print(\"Predicted values:\", y_pred.round(1))"
   ]
  },
  {
   "cell_type": "code",
   "execution_count": 82,
   "metadata": {},
   "outputs": [
    {
     "name": "stdout",
     "output_type": "stream",
     "text": [
      "Predicted values: [101209.8 141004.2 149434.  ... 107059.7  92112.1 145817.3]\n"
     ]
    }
   ],
   "source": [
    "#XGBoost on same data\n",
    "\n",
    "from xgboost import XGBRegressor\n",
    "\n",
    "xgb = XGBRegressor(n_estimators=10, random_state=1, n_jobs=-1)\n",
    "\n",
    "xgb.fit(x_train, y_train)\n",
    "\n",
    "y_pred = xgb.predict(x_val)\n",
    "\n",
    "print(\"Predicted values:\", y_pred.round(1))"
   ]
  },
  {
   "cell_type": "code",
   "execution_count": 83,
   "metadata": {},
   "outputs": [
    {
     "name": "stdout",
     "output_type": "stream",
     "text": [
      "Depth: 1\n",
      "Train: 1801879488.4695768\n",
      "Val: 1699347337.8845847\n",
      "\n",
      "Depth: 2\n",
      "Train: 939726562.9458728\n",
      "Val: 880758496.917628\n",
      "\n",
      "Depth: 3\n",
      "Train: 400361644.86969995\n",
      "Val: 352373879.92773\n",
      "\n",
      "Depth: 4\n",
      "Train: 180107090.82346562\n",
      "Val: 164578802.5698732\n",
      "\n",
      "Depth: 5\n",
      "Train: 98799247.50730889\n",
      "Val: 110722806.13973698\n",
      "\n",
      "Depth: 10\n",
      "Train: 629608.5365942534\n",
      "Val: 92987757.90923168\n",
      "\n",
      "Estimators: 1\n",
      "Train: 52482727.2994684\n",
      "Val: 110778949.39846517\n",
      "\n",
      "Estimators: 2\n",
      "Train: 43067833.89860208\n",
      "Val: 115525308.05578512\n",
      "\n",
      "Estimators: 3\n",
      "Train: 41638311.530397505\n",
      "Val: 98575404.59104024\n",
      "\n",
      "Estimators: 4\n",
      "Train: 42379923.03815958\n",
      "Val: 78836589.48387691\n",
      "\n",
      "Estimators: 5\n",
      "Train: 31612888.52604056\n",
      "Val: 94201416.99100353\n",
      "\n",
      "Estimators: 10\n",
      "Train: 19391058.455392793\n",
      "Val: 67583021.43551359\n",
      "\n",
      "Estimators: 1\n",
      "Train: 12930972804.994171\n",
      "Val: 13156694434.04104\n",
      "\n",
      "Estimators: 2\n",
      "Train: 6388395642.772102\n",
      "Val: 6478674440.005397\n",
      "\n",
      "Estimators: 3\n",
      "Train: 3159400146.018396\n",
      "Val: 3209262133.162651\n",
      "\n",
      "Estimators: 4\n",
      "Train: 1567149072.4303193\n",
      "Val: 1612088303.5234966\n",
      "\n",
      "Estimators: 5\n",
      "Train: 780531604.6536953\n",
      "Val: 824381154.3616813\n",
      "\n",
      "Estimators: 10\n",
      "Train: 29052515.05612261\n",
      "Val: 85554954.79483913\n",
      "\n",
      "Best model: DecisionTreeRegressor(max_depth=3)\n"
     ]
    }
   ],
   "source": [
    "#Compare all model accuracies\n",
    "\n",
    "from sklearn.metrics import mean_squared_error\n",
    "\n",
    "models = []\n",
    "\n",
    "for n in [1, 2, 3, 4, 5, 10]:\n",
    "    dt = DecisionTreeRegressor(max_depth=n)\n",
    "    dt.fit(x_train, y_train)\n",
    "    models.append(dt)\n",
    "    \n",
    "    print(\"Depth:\", n)\n",
    "    print(\"Train:\", mean_squared_error(y_train, dt.predict(x_train)))\n",
    "    print(\"Val:\", mean_squared_error(y_val, dt.predict(x_val)))\n",
    "    print()\n",
    "    \n",
    "for n in [1, 2, 3, 4, 5, 10]:\n",
    "    rf = RandomForestRegressor(n_estimators=n, random_state=1, n_jobs=-1)\n",
    "    rf.fit(x_train, y_train)\n",
    "    models.append(rf)\n",
    "    \n",
    "    print(\"Estimators:\", n)\n",
    "    print(\"Train:\", mean_squared_error(y_train, rf.predict(x_train)))\n",
    "    print(\"Val:\", mean_squared_error(y_val, rf.predict(x_val)))\n",
    "    print()\n",
    "    \n",
    "for n in [1, 2, 3, 4, 5, 10]:\n",
    "    xgb = XGBRegressor(n_estimators=n, random_state=1, n_jobs=-1)\n",
    "    xgb.fit(x_train, y_train)\n",
    "    models.append(xgb)\n",
    "    \n",
    "    print(\"Estimators:\", n)\n",
    "    print(\"Train:\", mean_squared_error(y_train, xgb.predict(x_train)))\n",
    "    print(\"Val:\", mean_squared_error(y_val, xgb.predict(x_val)))\n",
    "    print()\n",
    "    \n",
    "print(\"Best model:\", models[2])\n",
    "    \n"
   ]
  },
  {
   "cell_type": "code",
   "execution_count": 84,
   "metadata": {},
   "outputs": [
    {
     "name": "stdout",
     "output_type": "stream",
     "text": [
      "\u001b[33mWARNING: Ignoring invalid distribution -andas (/home/brandon/anaconda3/lib/python3.9/site-packages)\u001b[0m\u001b[33m\n",
      "\u001b[0mRequirement already satisfied: session_info in /home/brandon/anaconda3/lib/python3.9/site-packages (1.0.0)\n",
      "Requirement already satisfied: stdlib-list in /home/brandon/anaconda3/lib/python3.9/site-packages (from session_info) (0.9.0)\n",
      "\u001b[33mWARNING: Error parsing requirements for platformdirs: [Errno 2] No such file or directory: '/home/brandon/anaconda3/lib/python3.9/site-packages/platformdirs-2.5.2.dist-info/METADATA'\u001b[0m\u001b[33m\n",
      "\u001b[0m\u001b[33mWARNING: Error parsing requirements for python-lsp-black: [Errno 2] No such file or directory: '/home/brandon/anaconda3/lib/python3.9/site-packages/python_lsp_black-1.2.1.dist-info/METADATA'\u001b[0m\u001b[33m\n",
      "\u001b[0m\u001b[33mWARNING: Ignoring invalid distribution -andas (/home/brandon/anaconda3/lib/python3.9/site-packages)\u001b[0m\u001b[33m\n",
      "\u001b[0m"
     ]
    }
   ],
   "source": [
    "!pip install --upgrade session_info\n",
    "\n",
    "\n",
    "\n",
    "\n",
    "\n",
    "\n"
   ]
  },
  {
   "cell_type": "code",
   "execution_count": 85,
   "metadata": {},
   "outputs": [
    {
     "data": {
      "text/html": [
       "<details>\n",
       "<summary>Click to view session information</summary>\n",
       "<pre>\n",
       "-----\n",
       "matplotlib          3.6.3\n",
       "numpy               1.25.0\n",
       "pandas              1.5.3\n",
       "seaborn             0.12.2\n",
       "session_info        1.0.0\n",
       "sklearn             1.2.2\n",
       "xgboost             1.7.5\n",
       "-----\n",
       "</pre>\n",
       "<details>\n",
       "<summary>Click to view modules imported as dependencies</summary>\n",
       "<pre>\n",
       "PIL                         9.4.0\n",
       "anyio                       NA\n",
       "asttokens                   NA\n",
       "attr                        22.1.0\n",
       "babel                       2.11.0\n",
       "backcall                    0.2.0\n",
       "beta_ufunc                  NA\n",
       "binom_ufunc                 NA\n",
       "bottleneck                  1.3.5\n",
       "brotli                      NA\n",
       "certifi                     2023.05.07\n",
       "cffi                        1.15.1\n",
       "chardet                     4.0.0\n",
       "charset_normalizer          2.0.4\n",
       "cloudpickle                 2.2.1\n",
       "colorama                    0.4.4\n",
       "comm                        0.1.2\n",
       "cycler                      0.10.0\n",
       "cython_runtime              NA\n",
       "dateutil                    2.8.2\n",
       "debugpy                     1.6.6\n",
       "decorator                   5.1.1\n",
       "defusedxml                  0.7.1\n",
       "django                      3.2.5\n",
       "executing                   1.2.0\n",
       "fastjsonschema              NA\n",
       "google                      NA\n",
       "hypergeom_ufunc             NA\n",
       "idna                        3.4\n",
       "importlib_metadata          NA\n",
       "invgauss_ufunc              NA\n",
       "ipykernel                   6.21.1\n",
       "ipython_genutils            0.2.0\n",
       "ipywidgets                  8.0.4\n",
       "jedi                        0.18.2\n",
       "jinja2                      3.1.2\n",
       "joblib                      1.2.0\n",
       "json5                       NA\n",
       "jsonpointer                 2.1\n",
       "jsonschema                  4.17.3\n",
       "jupyter_events              0.6.3\n",
       "jupyter_server              2.5.0\n",
       "jupyterlab_server           2.22.0\n",
       "kiwisolver                  1.4.4\n",
       "lz4                         4.3.2\n",
       "markupsafe                  2.1.3\n",
       "matplotlib_inline           0.1.6\n",
       "mkl                         2.4.0\n",
       "mpl_toolkits                NA\n",
       "nbformat                    5.7.0\n",
       "nbinom_ufunc                NA\n",
       "ncf_ufunc                   NA\n",
       "nct_ufunc                   NA\n",
       "ncx2_ufunc                  NA\n",
       "numexpr                     2.8.4\n",
       "packaging                   23.0\n",
       "parso                       0.8.3\n",
       "pexpect                     4.8.0\n",
       "pickleshare                 0.7.5\n",
       "pkg_resources               NA\n",
       "platformdirs                3.11.0\n",
       "prometheus_client           NA\n",
       "prompt_toolkit              3.0.36\n",
       "psutil                      5.9.4\n",
       "ptyprocess                  0.7.0\n",
       "pure_eval                   0.2.2\n",
       "pvectorc                    NA\n",
       "pyarrow                     11.0.0\n",
       "pydev_ipython               NA\n",
       "pydevconsole                NA\n",
       "pydevd                      2.9.5\n",
       "pydevd_file_utils           NA\n",
       "pydevd_plugins              NA\n",
       "pydevd_tracing              NA\n",
       "pygments                    2.14.0\n",
       "pyparsing                   3.0.9\n",
       "pyrsistent                  NA\n",
       "pythonjsonlogger            NA\n",
       "pytz                        2022.7\n",
       "requests                    2.29.0\n",
       "rfc3339_validator           0.1.4\n",
       "rfc3986_validator           0.1.1\n",
       "ruamel                      NA\n",
       "scipy                       1.10.1\n",
       "send2trash                  NA\n",
       "setuptools                  67.8.0\n",
       "simplejson                  3.18.0\n",
       "six                         1.16.0\n",
       "skewnorm_ufunc              NA\n",
       "sniffio                     1.2.0\n",
       "socks                       1.7.1\n",
       "sphinxcontrib               NA\n",
       "stack_data                  0.6.2\n",
       "statsmodels                 0.13.5\n",
       "stdlib_list                 0.9.0\n",
       "threadpoolctl               3.1.0\n",
       "tornado                     6.2\n",
       "traitlets                   5.9.0\n",
       "typing_extensions           NA\n",
       "urllib3                     1.26.14\n",
       "urllib3_secure_extra        0.1.0\n",
       "wcwidth                     0.2.6\n",
       "websocket                   0.58.0\n",
       "yaml                        5.4.1\n",
       "zc                          NA\n",
       "zipp                        NA\n",
       "zmq                         25.1.0\n",
       "zoneinfo                    NA\n",
       "zope                        NA\n",
       "zstandard                   0.19.0\n",
       "</pre>\n",
       "</details> <!-- seems like this ends pre, so might as well be explicit -->\n",
       "<pre>\n",
       "-----\n",
       "IPython             8.12.0\n",
       "jupyter_client      8.3.0\n",
       "jupyter_core        5.2.0\n",
       "jupyterlab          3.6.3\n",
       "notebook            6.5.4\n",
       "-----\n",
       "Python 3.9.16 (main, Mar  8 2023, 14:00:05) [GCC 11.2.0]\n",
       "Linux-5.4.0-166-generic-x86_64-with-glibc2.31\n",
       "-----\n",
       "Session information updated at 2023-11-04 20:34\n",
       "</pre>\n",
       "</details>"
      ],
      "text/plain": [
       "<IPython.core.display.HTML object>"
      ]
     },
     "execution_count": 85,
     "metadata": {},
     "output_type": "execute_result"
    }
   ],
   "source": [
    "import session_info\n",
    "\n",
    "session_info.show(excludes=['mitosheet'])\n"
   ]
  },
  {
   "cell_type": "code",
   "execution_count": 86,
   "metadata": {},
   "outputs": [
    {
     "name": "stdout",
     "output_type": "stream",
     "text": [
      "This is your mean squared error:  85554954.79483913\n",
      "This is your R2 score:  0.9786794854019645\n",
      "This is your mean absolute error:  4727.866881963917\n",
      "This is mean squared log error:  0.006070806864261488\n"
     ]
    }
   ],
   "source": [
    "#Accuracy Metrics\n",
    "\n",
    "from sklearn.metrics import mean_squared_error\n",
    "from sklearn.metrics import r2_score\n",
    "from sklearn.metrics import mean_absolute_error\n",
    "from sklearn.metrics import mean_squared_log_error\n",
    "\n",
    "\n",
    "\n",
    "\n",
    "print(f'This is your mean squared error: ', mean_squared_error(y_val, y_pred))\n",
    "print(f'This is your R2 score: ', r2_score(y_val, y_pred))\n",
    "print(f'This is your mean absolute error: ', mean_absolute_error(y_val, y_pred))\n",
    "print(f'This is mean squared log error: ', mean_squared_log_error(y_val, y_pred))\n",
    "\n"
   ]
  },
  {
   "cell_type": "code",
   "execution_count": 87,
   "metadata": {},
   "outputs": [],
   "source": [
    "#Save the Decision Tree Regressor using Pickle\n",
    "\n",
    "import pickle\n",
    "\n",
    "with open('model.pkl', 'wb') as model_file:\n",
    "    pickle.dump(dt, model_file)\n",
    "    model_file.close()\n",
    "    "
   ]
  },
  {
   "cell_type": "code",
   "execution_count": null,
   "metadata": {},
   "outputs": [],
   "source": [
    "#Load the model\n",
    "\n",
    "with open('model.pkl', 'rb') as model_file:\n",
    "    loaded_model = pickle.load(model_file)\n",
    "    model_file.close()"
   ]
  },
  {
   "cell_type": "code",
   "execution_count": null,
   "metadata": {},
   "outputs": [],
   "source": []
  }
 ],
 "metadata": {
  "kernelspec": {
   "display_name": "base",
   "language": "python",
   "name": "python3"
  },
  "language_info": {
   "codemirror_mode": {
    "name": "ipython",
    "version": 3
   },
   "file_extension": ".py",
   "mimetype": "text/x-python",
   "name": "python",
   "nbconvert_exporter": "python",
   "pygments_lexer": "ipython3",
   "version": "3.9.16"
  }
 },
 "nbformat": 4,
 "nbformat_minor": 2
}
